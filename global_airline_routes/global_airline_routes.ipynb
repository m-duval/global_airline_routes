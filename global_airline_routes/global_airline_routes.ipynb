{
 "cells": [
  {
   "cell_type": "code",
   "execution_count": 191,
   "metadata": {},
   "outputs": [],
   "source": [
    "import pandas as pd\n",
    "import pandas as pd\n",
    "import numpy as np\n",
    "import matplotlib.pyplot as plt\n",
    "import csv\n",
    "import scipy.stats as stats\n",
    "import seaborn\n",
    "from keplergl import KeplerGl"
   ]
  },
  {
   "cell_type": "code",
   "execution_count": 192,
   "metadata": {
    "scrolled": true
   },
   "outputs": [],
   "source": [
    "lat_lng_data = 'code_lat_lng.csv'"
   ]
  },
  {
   "cell_type": "code",
   "execution_count": 193,
   "metadata": {},
   "outputs": [
    {
     "data": {
      "text/html": [
       "<div>\n",
       "<style scoped>\n",
       "    .dataframe tbody tr th:only-of-type {\n",
       "        vertical-align: middle;\n",
       "    }\n",
       "\n",
       "    .dataframe tbody tr th {\n",
       "        vertical-align: top;\n",
       "    }\n",
       "\n",
       "    .dataframe thead th {\n",
       "        text-align: right;\n",
       "    }\n",
       "</style>\n",
       "<table border=\"1\" class=\"dataframe\">\n",
       "  <thead>\n",
       "    <tr style=\"text-align: right;\">\n",
       "      <th></th>\n",
       "      <th>airport_code</th>\n",
       "      <th>lat</th>\n",
       "      <th>lng</th>\n",
       "    </tr>\n",
       "  </thead>\n",
       "  <tbody>\n",
       "    <tr>\n",
       "      <th>0</th>\n",
       "      <td>AAA</td>\n",
       "      <td>-17.353</td>\n",
       "      <td>-145.510</td>\n",
       "    </tr>\n",
       "    <tr>\n",
       "      <th>1</th>\n",
       "      <td>AAE</td>\n",
       "      <td>36.822</td>\n",
       "      <td>7.809</td>\n",
       "    </tr>\n",
       "    <tr>\n",
       "      <th>2</th>\n",
       "      <td>AAH</td>\n",
       "      <td>50.823</td>\n",
       "      <td>6.187</td>\n",
       "    </tr>\n",
       "    <tr>\n",
       "      <th>3</th>\n",
       "      <td>AAL</td>\n",
       "      <td>57.093</td>\n",
       "      <td>9.849</td>\n",
       "    </tr>\n",
       "    <tr>\n",
       "      <th>4</th>\n",
       "      <td>AAO</td>\n",
       "      <td>9.429</td>\n",
       "      <td>-64.471</td>\n",
       "    </tr>\n",
       "  </tbody>\n",
       "</table>\n",
       "</div>"
      ],
      "text/plain": [
       "  airport_code     lat      lng\n",
       "0          AAA -17.353 -145.510\n",
       "1          AAE  36.822    7.809\n",
       "2          AAH  50.823    6.187\n",
       "3          AAL  57.093    9.849\n",
       "4          AAO   9.429  -64.471"
      ]
     },
     "execution_count": 193,
     "metadata": {},
     "output_type": "execute_result"
    }
   ],
   "source": [
    "lat_lng_df = pd.read_csv(lat_lng_data)\n",
    "lat_lng_df.head()"
   ]
  },
  {
   "cell_type": "code",
   "execution_count": 194,
   "metadata": {},
   "outputs": [
    {
     "data": {
      "text/plain": [
       "airport_code    3561\n",
       "lat             9299\n",
       "lng             9299\n",
       "dtype: int64"
      ]
     },
     "execution_count": 194,
     "metadata": {},
     "output_type": "execute_result"
    }
   ],
   "source": [
    "lat_lng_df.count()"
   ]
  },
  {
   "cell_type": "code",
   "execution_count": 195,
   "metadata": {},
   "outputs": [],
   "source": [
    "drop_lat_lng_df = lat_lng_df.dropna()"
   ]
  },
  {
   "cell_type": "code",
   "execution_count": 196,
   "metadata": {},
   "outputs": [
    {
     "data": {
      "text/plain": [
       "airport_code    3561\n",
       "lat             3561\n",
       "lng             3561\n",
       "dtype: int64"
      ]
     },
     "execution_count": 196,
     "metadata": {},
     "output_type": "execute_result"
    }
   ],
   "source": [
    "drop_lat_lng_df.count()"
   ]
  },
  {
   "cell_type": "code",
   "execution_count": 197,
   "metadata": {},
   "outputs": [],
   "source": [
    "route_code_data = 'route_code_data.csv'"
   ]
  },
  {
   "cell_type": "code",
   "execution_count": 198,
   "metadata": {},
   "outputs": [
    {
     "data": {
      "text/html": [
       "<div>\n",
       "<style scoped>\n",
       "    .dataframe tbody tr th:only-of-type {\n",
       "        vertical-align: middle;\n",
       "    }\n",
       "\n",
       "    .dataframe tbody tr th {\n",
       "        vertical-align: top;\n",
       "    }\n",
       "\n",
       "    .dataframe thead th {\n",
       "        text-align: right;\n",
       "    }\n",
       "</style>\n",
       "<table border=\"1\" class=\"dataframe\">\n",
       "  <thead>\n",
       "    <tr style=\"text-align: right;\">\n",
       "      <th></th>\n",
       "      <th>source_airport</th>\n",
       "      <th>destination_airport</th>\n",
       "    </tr>\n",
       "  </thead>\n",
       "  <tbody>\n",
       "    <tr>\n",
       "      <th>0</th>\n",
       "      <td>AER</td>\n",
       "      <td>KZN</td>\n",
       "    </tr>\n",
       "    <tr>\n",
       "      <th>1</th>\n",
       "      <td>ASF</td>\n",
       "      <td>KZN</td>\n",
       "    </tr>\n",
       "    <tr>\n",
       "      <th>2</th>\n",
       "      <td>ASF</td>\n",
       "      <td>MRV</td>\n",
       "    </tr>\n",
       "    <tr>\n",
       "      <th>3</th>\n",
       "      <td>CEK</td>\n",
       "      <td>KZN</td>\n",
       "    </tr>\n",
       "    <tr>\n",
       "      <th>4</th>\n",
       "      <td>CEK</td>\n",
       "      <td>OVB</td>\n",
       "    </tr>\n",
       "  </tbody>\n",
       "</table>\n",
       "</div>"
      ],
      "text/plain": [
       "  source_airport destination_airport\n",
       "0            AER                 KZN\n",
       "1            ASF                 KZN\n",
       "2            ASF                 MRV\n",
       "3            CEK                 KZN\n",
       "4            CEK                 OVB"
      ]
     },
     "execution_count": 198,
     "metadata": {},
     "output_type": "execute_result"
    }
   ],
   "source": [
    "route_df = pd.read_csv(route_code_data)\n",
    "route_df.head()"
   ]
  },
  {
   "cell_type": "code",
   "execution_count": 199,
   "metadata": {},
   "outputs": [
    {
     "data": {
      "text/html": [
       "<div>\n",
       "<style scoped>\n",
       "    .dataframe tbody tr th:only-of-type {\n",
       "        vertical-align: middle;\n",
       "    }\n",
       "\n",
       "    .dataframe tbody tr th {\n",
       "        vertical-align: top;\n",
       "    }\n",
       "\n",
       "    .dataframe thead th {\n",
       "        text-align: right;\n",
       "    }\n",
       "</style>\n",
       "<table border=\"1\" class=\"dataframe\">\n",
       "  <thead>\n",
       "    <tr style=\"text-align: right;\">\n",
       "      <th></th>\n",
       "      <th>source_code</th>\n",
       "      <th>destination_code</th>\n",
       "    </tr>\n",
       "  </thead>\n",
       "  <tbody>\n",
       "    <tr>\n",
       "      <th>0</th>\n",
       "      <td>AER</td>\n",
       "      <td>KZN</td>\n",
       "    </tr>\n",
       "    <tr>\n",
       "      <th>1</th>\n",
       "      <td>ASF</td>\n",
       "      <td>KZN</td>\n",
       "    </tr>\n",
       "    <tr>\n",
       "      <th>2</th>\n",
       "      <td>ASF</td>\n",
       "      <td>MRV</td>\n",
       "    </tr>\n",
       "    <tr>\n",
       "      <th>3</th>\n",
       "      <td>CEK</td>\n",
       "      <td>KZN</td>\n",
       "    </tr>\n",
       "    <tr>\n",
       "      <th>4</th>\n",
       "      <td>CEK</td>\n",
       "      <td>OVB</td>\n",
       "    </tr>\n",
       "  </tbody>\n",
       "</table>\n",
       "</div>"
      ],
      "text/plain": [
       "  source_code destination_code\n",
       "0         AER              KZN\n",
       "1         ASF              KZN\n",
       "2         ASF              MRV\n",
       "3         CEK              KZN\n",
       "4         CEK              OVB"
      ]
     },
     "execution_count": 199,
     "metadata": {},
     "output_type": "execute_result"
    }
   ],
   "source": [
    "route_df = route_df.rename(columns={'source_airport': 'source_code', 'destination_airport': 'destination_code'})\n",
    "route_df.head()"
   ]
  },
  {
   "cell_type": "code",
   "execution_count": 200,
   "metadata": {},
   "outputs": [
    {
     "data": {
      "text/plain": [
       "source_code         67663\n",
       "destination_code    67663\n",
       "dtype: int64"
      ]
     },
     "execution_count": 200,
     "metadata": {},
     "output_type": "execute_result"
    }
   ],
   "source": [
    "route_df.count()"
   ]
  },
  {
   "cell_type": "code",
   "execution_count": 201,
   "metadata": {},
   "outputs": [],
   "source": [
    "source_code_data = 'source_code.csv'"
   ]
  },
  {
   "cell_type": "code",
   "execution_count": 202,
   "metadata": {},
   "outputs": [
    {
     "data": {
      "text/html": [
       "<div>\n",
       "<style scoped>\n",
       "    .dataframe tbody tr th:only-of-type {\n",
       "        vertical-align: middle;\n",
       "    }\n",
       "\n",
       "    .dataframe tbody tr th {\n",
       "        vertical-align: top;\n",
       "    }\n",
       "\n",
       "    .dataframe thead th {\n",
       "        text-align: right;\n",
       "    }\n",
       "</style>\n",
       "<table border=\"1\" class=\"dataframe\">\n",
       "  <thead>\n",
       "    <tr style=\"text-align: right;\">\n",
       "      <th></th>\n",
       "      <th>airport_code</th>\n",
       "    </tr>\n",
       "  </thead>\n",
       "  <tbody>\n",
       "    <tr>\n",
       "      <th>0</th>\n",
       "      <td>AER</td>\n",
       "    </tr>\n",
       "    <tr>\n",
       "      <th>1</th>\n",
       "      <td>ASF</td>\n",
       "    </tr>\n",
       "    <tr>\n",
       "      <th>2</th>\n",
       "      <td>ASF</td>\n",
       "    </tr>\n",
       "    <tr>\n",
       "      <th>3</th>\n",
       "      <td>CEK</td>\n",
       "    </tr>\n",
       "    <tr>\n",
       "      <th>4</th>\n",
       "      <td>CEK</td>\n",
       "    </tr>\n",
       "  </tbody>\n",
       "</table>\n",
       "</div>"
      ],
      "text/plain": [
       "  airport_code\n",
       "0          AER\n",
       "1          ASF\n",
       "2          ASF\n",
       "3          CEK\n",
       "4          CEK"
      ]
     },
     "execution_count": 202,
     "metadata": {},
     "output_type": "execute_result"
    }
   ],
   "source": [
    "source_df = pd.read_csv(source_code_data)\n",
    "source_df.head()"
   ]
  },
  {
   "cell_type": "code",
   "execution_count": 203,
   "metadata": {},
   "outputs": [],
   "source": [
    "destination_code_data = 'destination_code.csv'"
   ]
  },
  {
   "cell_type": "code",
   "execution_count": 204,
   "metadata": {},
   "outputs": [
    {
     "data": {
      "text/html": [
       "<div>\n",
       "<style scoped>\n",
       "    .dataframe tbody tr th:only-of-type {\n",
       "        vertical-align: middle;\n",
       "    }\n",
       "\n",
       "    .dataframe tbody tr th {\n",
       "        vertical-align: top;\n",
       "    }\n",
       "\n",
       "    .dataframe thead th {\n",
       "        text-align: right;\n",
       "    }\n",
       "</style>\n",
       "<table border=\"1\" class=\"dataframe\">\n",
       "  <thead>\n",
       "    <tr style=\"text-align: right;\">\n",
       "      <th></th>\n",
       "      <th>airport_code</th>\n",
       "    </tr>\n",
       "  </thead>\n",
       "  <tbody>\n",
       "    <tr>\n",
       "      <th>0</th>\n",
       "      <td>KZN</td>\n",
       "    </tr>\n",
       "    <tr>\n",
       "      <th>1</th>\n",
       "      <td>KZN</td>\n",
       "    </tr>\n",
       "    <tr>\n",
       "      <th>2</th>\n",
       "      <td>MRV</td>\n",
       "    </tr>\n",
       "    <tr>\n",
       "      <th>3</th>\n",
       "      <td>KZN</td>\n",
       "    </tr>\n",
       "    <tr>\n",
       "      <th>4</th>\n",
       "      <td>OVB</td>\n",
       "    </tr>\n",
       "  </tbody>\n",
       "</table>\n",
       "</div>"
      ],
      "text/plain": [
       "  airport_code\n",
       "0          KZN\n",
       "1          KZN\n",
       "2          MRV\n",
       "3          KZN\n",
       "4          OVB"
      ]
     },
     "execution_count": 204,
     "metadata": {},
     "output_type": "execute_result"
    }
   ],
   "source": [
    "destination_df = pd.read_csv(destination_code_data)\n",
    "destination_df.head()"
   ]
  },
  {
   "cell_type": "code",
   "execution_count": 205,
   "metadata": {},
   "outputs": [
    {
     "data": {
      "text/html": [
       "<div>\n",
       "<style scoped>\n",
       "    .dataframe tbody tr th:only-of-type {\n",
       "        vertical-align: middle;\n",
       "    }\n",
       "\n",
       "    .dataframe tbody tr th {\n",
       "        vertical-align: top;\n",
       "    }\n",
       "\n",
       "    .dataframe thead th {\n",
       "        text-align: right;\n",
       "    }\n",
       "</style>\n",
       "<table border=\"1\" class=\"dataframe\">\n",
       "  <thead>\n",
       "    <tr style=\"text-align: right;\">\n",
       "      <th></th>\n",
       "      <th>airport_code</th>\n",
       "      <th>lat</th>\n",
       "      <th>lng</th>\n",
       "    </tr>\n",
       "  </thead>\n",
       "  <tbody>\n",
       "    <tr>\n",
       "      <th>0</th>\n",
       "      <td>AER</td>\n",
       "      <td>43.446</td>\n",
       "      <td>39.947</td>\n",
       "    </tr>\n",
       "    <tr>\n",
       "      <th>1</th>\n",
       "      <td>AER</td>\n",
       "      <td>43.446</td>\n",
       "      <td>39.947</td>\n",
       "    </tr>\n",
       "    <tr>\n",
       "      <th>2</th>\n",
       "      <td>AER</td>\n",
       "      <td>43.446</td>\n",
       "      <td>39.947</td>\n",
       "    </tr>\n",
       "    <tr>\n",
       "      <th>3</th>\n",
       "      <td>AER</td>\n",
       "      <td>43.446</td>\n",
       "      <td>39.947</td>\n",
       "    </tr>\n",
       "    <tr>\n",
       "      <th>4</th>\n",
       "      <td>AER</td>\n",
       "      <td>43.446</td>\n",
       "      <td>39.947</td>\n",
       "    </tr>\n",
       "  </tbody>\n",
       "</table>\n",
       "</div>"
      ],
      "text/plain": [
       "  airport_code     lat     lng\n",
       "0          AER  43.446  39.947\n",
       "1          AER  43.446  39.947\n",
       "2          AER  43.446  39.947\n",
       "3          AER  43.446  39.947\n",
       "4          AER  43.446  39.947"
      ]
     },
     "execution_count": 205,
     "metadata": {},
     "output_type": "execute_result"
    }
   ],
   "source": [
    "source_complete = pd.merge(\n",
    "    source_df, lat_lng_df, how=\"right\", on=[\"airport_code\", \"airport_code\"])\n",
    "\n",
    "source_complete.head()"
   ]
  },
  {
   "cell_type": "code",
   "execution_count": 206,
   "metadata": {
    "scrolled": false
   },
   "outputs": [
    {
     "data": {
      "text/html": [
       "<div>\n",
       "<style scoped>\n",
       "    .dataframe tbody tr th:only-of-type {\n",
       "        vertical-align: middle;\n",
       "    }\n",
       "\n",
       "    .dataframe tbody tr th {\n",
       "        vertical-align: top;\n",
       "    }\n",
       "\n",
       "    .dataframe thead th {\n",
       "        text-align: right;\n",
       "    }\n",
       "</style>\n",
       "<table border=\"1\" class=\"dataframe\">\n",
       "  <thead>\n",
       "    <tr style=\"text-align: right;\">\n",
       "      <th></th>\n",
       "      <th>source_code</th>\n",
       "      <th>slat</th>\n",
       "      <th>slng</th>\n",
       "    </tr>\n",
       "  </thead>\n",
       "  <tbody>\n",
       "    <tr>\n",
       "      <th>68830</th>\n",
       "      <td>ZUD</td>\n",
       "      <td>-41.906</td>\n",
       "      <td>-73.797</td>\n",
       "    </tr>\n",
       "    <tr>\n",
       "      <th>68831</th>\n",
       "      <td>ZUN</td>\n",
       "      <td>35.083</td>\n",
       "      <td>-108.792</td>\n",
       "    </tr>\n",
       "    <tr>\n",
       "      <th>68832</th>\n",
       "      <td>ZVA</td>\n",
       "      <td>-19.563</td>\n",
       "      <td>45.451</td>\n",
       "    </tr>\n",
       "    <tr>\n",
       "      <th>68833</th>\n",
       "      <td>ZWA</td>\n",
       "      <td>-14.652</td>\n",
       "      <td>49.621</td>\n",
       "    </tr>\n",
       "    <tr>\n",
       "      <th>68834</th>\n",
       "      <td>ZZU</td>\n",
       "      <td>-11.445</td>\n",
       "      <td>34.012</td>\n",
       "    </tr>\n",
       "  </tbody>\n",
       "</table>\n",
       "</div>"
      ],
      "text/plain": [
       "      source_code    slat     slng\n",
       "68830         ZUD -41.906  -73.797\n",
       "68831         ZUN  35.083 -108.792\n",
       "68832         ZVA -19.563   45.451\n",
       "68833         ZWA -14.652   49.621\n",
       "68834         ZZU -11.445   34.012"
      ]
     },
     "execution_count": 206,
     "metadata": {},
     "output_type": "execute_result"
    }
   ],
   "source": [
    "source_complete = source_complete.rename(columns={'airport_code': 'source_code', 'lat': 'slat', 'lng': 'slng'})\n",
    "source_complete.tail()"
   ]
  },
  {
   "cell_type": "code",
   "execution_count": 207,
   "metadata": {
    "scrolled": true
   },
   "outputs": [
    {
     "data": {
      "text/plain": [
       "source_code    63097\n",
       "slat           68835\n",
       "slng           68835\n",
       "dtype: int64"
      ]
     },
     "execution_count": 207,
     "metadata": {},
     "output_type": "execute_result"
    }
   ],
   "source": [
    "source_complete.count()"
   ]
  },
  {
   "cell_type": "code",
   "execution_count": 208,
   "metadata": {},
   "outputs": [],
   "source": [
    "source_complete = source_complete.dropna()\n",
    "source_complete = source_complete.reset_index(drop=True)"
   ]
  },
  {
   "cell_type": "code",
   "execution_count": 209,
   "metadata": {
    "scrolled": false
   },
   "outputs": [
    {
     "data": {
      "text/plain": [
       "source_code    63097\n",
       "slat           63097\n",
       "slng           63097\n",
       "dtype: int64"
      ]
     },
     "execution_count": 209,
     "metadata": {},
     "output_type": "execute_result"
    }
   ],
   "source": [
    "source_complete.count()"
   ]
  },
  {
   "cell_type": "code",
   "execution_count": 210,
   "metadata": {
    "scrolled": true
   },
   "outputs": [
    {
     "data": {
      "text/html": [
       "<div>\n",
       "<style scoped>\n",
       "    .dataframe tbody tr th:only-of-type {\n",
       "        vertical-align: middle;\n",
       "    }\n",
       "\n",
       "    .dataframe tbody tr th {\n",
       "        vertical-align: top;\n",
       "    }\n",
       "\n",
       "    .dataframe thead th {\n",
       "        text-align: right;\n",
       "    }\n",
       "</style>\n",
       "<table border=\"1\" class=\"dataframe\">\n",
       "  <thead>\n",
       "    <tr style=\"text-align: right;\">\n",
       "      <th></th>\n",
       "      <th>source_code</th>\n",
       "      <th>slat</th>\n",
       "      <th>slng</th>\n",
       "    </tr>\n",
       "  </thead>\n",
       "  <tbody>\n",
       "    <tr>\n",
       "      <th>63092</th>\n",
       "      <td>ZUD</td>\n",
       "      <td>-41.906</td>\n",
       "      <td>-73.797</td>\n",
       "    </tr>\n",
       "    <tr>\n",
       "      <th>63093</th>\n",
       "      <td>ZUN</td>\n",
       "      <td>35.083</td>\n",
       "      <td>-108.792</td>\n",
       "    </tr>\n",
       "    <tr>\n",
       "      <th>63094</th>\n",
       "      <td>ZVA</td>\n",
       "      <td>-19.563</td>\n",
       "      <td>45.451</td>\n",
       "    </tr>\n",
       "    <tr>\n",
       "      <th>63095</th>\n",
       "      <td>ZWA</td>\n",
       "      <td>-14.652</td>\n",
       "      <td>49.621</td>\n",
       "    </tr>\n",
       "    <tr>\n",
       "      <th>63096</th>\n",
       "      <td>ZZU</td>\n",
       "      <td>-11.445</td>\n",
       "      <td>34.012</td>\n",
       "    </tr>\n",
       "  </tbody>\n",
       "</table>\n",
       "</div>"
      ],
      "text/plain": [
       "      source_code    slat     slng\n",
       "63092         ZUD -41.906  -73.797\n",
       "63093         ZUN  35.083 -108.792\n",
       "63094         ZVA -19.563   45.451\n",
       "63095         ZWA -14.652   49.621\n",
       "63096         ZZU -11.445   34.012"
      ]
     },
     "execution_count": 210,
     "metadata": {},
     "output_type": "execute_result"
    }
   ],
   "source": [
    "source_complete.tail()"
   ]
  },
  {
   "cell_type": "code",
   "execution_count": 211,
   "metadata": {
    "scrolled": true
   },
   "outputs": [
    {
     "data": {
      "text/html": [
       "<div>\n",
       "<style scoped>\n",
       "    .dataframe tbody tr th:only-of-type {\n",
       "        vertical-align: middle;\n",
       "    }\n",
       "\n",
       "    .dataframe tbody tr th {\n",
       "        vertical-align: top;\n",
       "    }\n",
       "\n",
       "    .dataframe thead th {\n",
       "        text-align: right;\n",
       "    }\n",
       "</style>\n",
       "<table border=\"1\" class=\"dataframe\">\n",
       "  <thead>\n",
       "    <tr style=\"text-align: right;\">\n",
       "      <th></th>\n",
       "      <th>source_code</th>\n",
       "      <th>slat</th>\n",
       "      <th>slng</th>\n",
       "    </tr>\n",
       "  </thead>\n",
       "  <tbody>\n",
       "    <tr>\n",
       "      <th>63044</th>\n",
       "      <td>YRF</td>\n",
       "      <td>0.000</td>\n",
       "      <td>0.000</td>\n",
       "    </tr>\n",
       "    <tr>\n",
       "      <th>63045</th>\n",
       "      <td>YRI</td>\n",
       "      <td>47.764</td>\n",
       "      <td>-69.585</td>\n",
       "    </tr>\n",
       "    <tr>\n",
       "      <th>63046</th>\n",
       "      <td>YRJ</td>\n",
       "      <td>48.520</td>\n",
       "      <td>-72.266</td>\n",
       "    </tr>\n",
       "    <tr>\n",
       "      <th>63047</th>\n",
       "      <td>YRM</td>\n",
       "      <td>52.430</td>\n",
       "      <td>-114.904</td>\n",
       "    </tr>\n",
       "    <tr>\n",
       "      <th>63048</th>\n",
       "      <td>YSC</td>\n",
       "      <td>45.438</td>\n",
       "      <td>-71.691</td>\n",
       "    </tr>\n",
       "  </tbody>\n",
       "</table>\n",
       "</div>"
      ],
      "text/plain": [
       "      source_code    slat     slng\n",
       "63044         YRF   0.000    0.000\n",
       "63045         YRI  47.764  -69.585\n",
       "63046         YRJ  48.520  -72.266\n",
       "63047         YRM  52.430 -114.904\n",
       "63048         YSC  45.438  -71.691"
      ]
     },
     "execution_count": 211,
     "metadata": {},
     "output_type": "execute_result"
    }
   ],
   "source": [
    "source_complete.drop(source_complete.tail(48).index,inplace=True)\n",
    "source_complete.tail()"
   ]
  },
  {
   "cell_type": "code",
   "execution_count": 212,
   "metadata": {
    "scrolled": true
   },
   "outputs": [
    {
     "data": {
      "text/plain": [
       "source_code    63049\n",
       "slat           63049\n",
       "slng           63049\n",
       "dtype: int64"
      ]
     },
     "execution_count": 212,
     "metadata": {},
     "output_type": "execute_result"
    }
   ],
   "source": [
    "source_complete.count()"
   ]
  },
  {
   "cell_type": "code",
   "execution_count": 213,
   "metadata": {},
   "outputs": [
    {
     "data": {
      "text/plain": [
       "source_code     object\n",
       "slat           float64\n",
       "slng           float64\n",
       "dtype: object"
      ]
     },
     "execution_count": 213,
     "metadata": {},
     "output_type": "execute_result"
    }
   ],
   "source": [
    "source_complete.dtypes"
   ]
  },
  {
   "cell_type": "code",
   "execution_count": 214,
   "metadata": {},
   "outputs": [
    {
     "data": {
      "text/html": [
       "<div>\n",
       "<style scoped>\n",
       "    .dataframe tbody tr th:only-of-type {\n",
       "        vertical-align: middle;\n",
       "    }\n",
       "\n",
       "    .dataframe tbody tr th {\n",
       "        vertical-align: top;\n",
       "    }\n",
       "\n",
       "    .dataframe thead th {\n",
       "        text-align: right;\n",
       "    }\n",
       "</style>\n",
       "<table border=\"1\" class=\"dataframe\">\n",
       "  <thead>\n",
       "    <tr style=\"text-align: right;\">\n",
       "      <th></th>\n",
       "      <th>airport_code</th>\n",
       "      <th>lat</th>\n",
       "      <th>lng</th>\n",
       "    </tr>\n",
       "  </thead>\n",
       "  <tbody>\n",
       "    <tr>\n",
       "      <th>0</th>\n",
       "      <td>KZN</td>\n",
       "      <td>55.608</td>\n",
       "      <td>49.277</td>\n",
       "    </tr>\n",
       "    <tr>\n",
       "      <th>1</th>\n",
       "      <td>KZN</td>\n",
       "      <td>55.608</td>\n",
       "      <td>49.277</td>\n",
       "    </tr>\n",
       "    <tr>\n",
       "      <th>2</th>\n",
       "      <td>KZN</td>\n",
       "      <td>55.608</td>\n",
       "      <td>49.277</td>\n",
       "    </tr>\n",
       "    <tr>\n",
       "      <th>3</th>\n",
       "      <td>KZN</td>\n",
       "      <td>55.608</td>\n",
       "      <td>49.277</td>\n",
       "    </tr>\n",
       "    <tr>\n",
       "      <th>4</th>\n",
       "      <td>KZN</td>\n",
       "      <td>55.608</td>\n",
       "      <td>49.277</td>\n",
       "    </tr>\n",
       "  </tbody>\n",
       "</table>\n",
       "</div>"
      ],
      "text/plain": [
       "  airport_code     lat     lng\n",
       "0          KZN  55.608  49.277\n",
       "1          KZN  55.608  49.277\n",
       "2          KZN  55.608  49.277\n",
       "3          KZN  55.608  49.277\n",
       "4          KZN  55.608  49.277"
      ]
     },
     "execution_count": 214,
     "metadata": {},
     "output_type": "execute_result"
    }
   ],
   "source": [
    "destination_complete = pd.merge(\n",
    "    destination_df, lat_lng_df, how=\"right\", on=[\"airport_code\", \"airport_code\"])\n",
    "\n",
    "destination_complete.head()"
   ]
  },
  {
   "cell_type": "code",
   "execution_count": 215,
   "metadata": {
    "scrolled": true
   },
   "outputs": [
    {
     "data": {
      "text/html": [
       "<div>\n",
       "<style scoped>\n",
       "    .dataframe tbody tr th:only-of-type {\n",
       "        vertical-align: middle;\n",
       "    }\n",
       "\n",
       "    .dataframe tbody tr th {\n",
       "        vertical-align: top;\n",
       "    }\n",
       "\n",
       "    .dataframe thead th {\n",
       "        text-align: right;\n",
       "    }\n",
       "</style>\n",
       "<table border=\"1\" class=\"dataframe\">\n",
       "  <thead>\n",
       "    <tr style=\"text-align: right;\">\n",
       "      <th></th>\n",
       "      <th>destination_code</th>\n",
       "      <th>dlat</th>\n",
       "      <th>dlng</th>\n",
       "    </tr>\n",
       "  </thead>\n",
       "  <tbody>\n",
       "    <tr>\n",
       "      <th>0</th>\n",
       "      <td>KZN</td>\n",
       "      <td>55.608</td>\n",
       "      <td>49.277</td>\n",
       "    </tr>\n",
       "    <tr>\n",
       "      <th>1</th>\n",
       "      <td>KZN</td>\n",
       "      <td>55.608</td>\n",
       "      <td>49.277</td>\n",
       "    </tr>\n",
       "    <tr>\n",
       "      <th>2</th>\n",
       "      <td>KZN</td>\n",
       "      <td>55.608</td>\n",
       "      <td>49.277</td>\n",
       "    </tr>\n",
       "    <tr>\n",
       "      <th>3</th>\n",
       "      <td>KZN</td>\n",
       "      <td>55.608</td>\n",
       "      <td>49.277</td>\n",
       "    </tr>\n",
       "    <tr>\n",
       "      <th>4</th>\n",
       "      <td>KZN</td>\n",
       "      <td>55.608</td>\n",
       "      <td>49.277</td>\n",
       "    </tr>\n",
       "  </tbody>\n",
       "</table>\n",
       "</div>"
      ],
      "text/plain": [
       "  destination_code    dlat    dlng\n",
       "0              KZN  55.608  49.277\n",
       "1              KZN  55.608  49.277\n",
       "2              KZN  55.608  49.277\n",
       "3              KZN  55.608  49.277\n",
       "4              KZN  55.608  49.277"
      ]
     },
     "execution_count": 215,
     "metadata": {},
     "output_type": "execute_result"
    }
   ],
   "source": [
    "destination_complete = destination_complete.rename(columns={'airport_code': 'destination_code', 'lat': 'dlat', 'lng': 'dlng'})\n",
    "destination_complete.head()"
   ]
  },
  {
   "cell_type": "code",
   "execution_count": 216,
   "metadata": {
    "scrolled": true
   },
   "outputs": [
    {
     "data": {
      "text/plain": [
       "destination_code    63049\n",
       "dlat                68787\n",
       "dlng                68787\n",
       "dtype: int64"
      ]
     },
     "execution_count": 216,
     "metadata": {},
     "output_type": "execute_result"
    }
   ],
   "source": [
    "destination_complete.count()"
   ]
  },
  {
   "cell_type": "code",
   "execution_count": 217,
   "metadata": {},
   "outputs": [],
   "source": [
    "destination_complete = destination_complete.dropna()\n",
    "destination_complete = destination_complete.reset_index(drop=True)"
   ]
  },
  {
   "cell_type": "code",
   "execution_count": 218,
   "metadata": {},
   "outputs": [
    {
     "data": {
      "text/plain": [
       "destination_code    63049\n",
       "dlat                63049\n",
       "dlng                63049\n",
       "dtype: int64"
      ]
     },
     "execution_count": 218,
     "metadata": {},
     "output_type": "execute_result"
    }
   ],
   "source": [
    "destination_complete.count()"
   ]
  },
  {
   "cell_type": "code",
   "execution_count": 219,
   "metadata": {
    "scrolled": false
   },
   "outputs": [
    {
     "data": {
      "text/html": [
       "<div>\n",
       "<style scoped>\n",
       "    .dataframe tbody tr th:only-of-type {\n",
       "        vertical-align: middle;\n",
       "    }\n",
       "\n",
       "    .dataframe tbody tr th {\n",
       "        vertical-align: top;\n",
       "    }\n",
       "\n",
       "    .dataframe thead th {\n",
       "        text-align: right;\n",
       "    }\n",
       "</style>\n",
       "<table border=\"1\" class=\"dataframe\">\n",
       "  <thead>\n",
       "    <tr style=\"text-align: right;\">\n",
       "      <th></th>\n",
       "      <th>destination_code</th>\n",
       "      <th>dlat</th>\n",
       "      <th>dlng</th>\n",
       "    </tr>\n",
       "  </thead>\n",
       "  <tbody>\n",
       "    <tr>\n",
       "      <th>63044</th>\n",
       "      <td>ZUD</td>\n",
       "      <td>-41.906</td>\n",
       "      <td>-73.797</td>\n",
       "    </tr>\n",
       "    <tr>\n",
       "      <th>63045</th>\n",
       "      <td>ZUN</td>\n",
       "      <td>35.083</td>\n",
       "      <td>-108.792</td>\n",
       "    </tr>\n",
       "    <tr>\n",
       "      <th>63046</th>\n",
       "      <td>ZVA</td>\n",
       "      <td>-19.563</td>\n",
       "      <td>45.451</td>\n",
       "    </tr>\n",
       "    <tr>\n",
       "      <th>63047</th>\n",
       "      <td>ZWA</td>\n",
       "      <td>-14.652</td>\n",
       "      <td>49.621</td>\n",
       "    </tr>\n",
       "    <tr>\n",
       "      <th>63048</th>\n",
       "      <td>ZZU</td>\n",
       "      <td>-11.445</td>\n",
       "      <td>34.012</td>\n",
       "    </tr>\n",
       "  </tbody>\n",
       "</table>\n",
       "</div>"
      ],
      "text/plain": [
       "      destination_code    dlat     dlng\n",
       "63044              ZUD -41.906  -73.797\n",
       "63045              ZUN  35.083 -108.792\n",
       "63046              ZVA -19.563   45.451\n",
       "63047              ZWA -14.652   49.621\n",
       "63048              ZZU -11.445   34.012"
      ]
     },
     "execution_count": 219,
     "metadata": {},
     "output_type": "execute_result"
    }
   ],
   "source": [
    "destination_complete.tail()"
   ]
  },
  {
   "cell_type": "code",
   "execution_count": 220,
   "metadata": {},
   "outputs": [
    {
     "data": {
      "text/plain": [
       "destination_code     object\n",
       "dlat                float64\n",
       "dlng                float64\n",
       "dtype: object"
      ]
     },
     "execution_count": 220,
     "metadata": {},
     "output_type": "execute_result"
    }
   ],
   "source": [
    "destination_complete.dtypes"
   ]
  },
  {
   "cell_type": "code",
   "execution_count": 226,
   "metadata": {},
   "outputs": [
    {
     "data": {
      "text/html": [
       "<div>\n",
       "<style scoped>\n",
       "    .dataframe tbody tr th:only-of-type {\n",
       "        vertical-align: middle;\n",
       "    }\n",
       "\n",
       "    .dataframe tbody tr th {\n",
       "        vertical-align: top;\n",
       "    }\n",
       "\n",
       "    .dataframe thead th {\n",
       "        text-align: right;\n",
       "    }\n",
       "</style>\n",
       "<table border=\"1\" class=\"dataframe\">\n",
       "  <thead>\n",
       "    <tr style=\"text-align: right;\">\n",
       "      <th></th>\n",
       "      <th>source_code</th>\n",
       "      <th>slat</th>\n",
       "      <th>slng</th>\n",
       "      <th>destination_code</th>\n",
       "      <th>dlat</th>\n",
       "      <th>dlng</th>\n",
       "    </tr>\n",
       "  </thead>\n",
       "  <tbody>\n",
       "    <tr>\n",
       "      <th>0</th>\n",
       "      <td>AER</td>\n",
       "      <td>43.446</td>\n",
       "      <td>39.947</td>\n",
       "      <td>KZN</td>\n",
       "      <td>55.608</td>\n",
       "      <td>49.277</td>\n",
       "    </tr>\n",
       "    <tr>\n",
       "      <th>1</th>\n",
       "      <td>AER</td>\n",
       "      <td>43.446</td>\n",
       "      <td>39.947</td>\n",
       "      <td>KZN</td>\n",
       "      <td>55.608</td>\n",
       "      <td>49.277</td>\n",
       "    </tr>\n",
       "    <tr>\n",
       "      <th>2</th>\n",
       "      <td>AER</td>\n",
       "      <td>43.446</td>\n",
       "      <td>39.947</td>\n",
       "      <td>KZN</td>\n",
       "      <td>55.608</td>\n",
       "      <td>49.277</td>\n",
       "    </tr>\n",
       "    <tr>\n",
       "      <th>3</th>\n",
       "      <td>AER</td>\n",
       "      <td>43.446</td>\n",
       "      <td>39.947</td>\n",
       "      <td>KZN</td>\n",
       "      <td>55.608</td>\n",
       "      <td>49.277</td>\n",
       "    </tr>\n",
       "    <tr>\n",
       "      <th>4</th>\n",
       "      <td>AER</td>\n",
       "      <td>43.446</td>\n",
       "      <td>39.947</td>\n",
       "      <td>KZN</td>\n",
       "      <td>55.608</td>\n",
       "      <td>49.277</td>\n",
       "    </tr>\n",
       "    <tr>\n",
       "      <th>...</th>\n",
       "      <td>...</td>\n",
       "      <td>...</td>\n",
       "      <td>...</td>\n",
       "      <td>...</td>\n",
       "      <td>...</td>\n",
       "      <td>...</td>\n",
       "    </tr>\n",
       "    <tr>\n",
       "      <th>95</th>\n",
       "      <td>KZN</td>\n",
       "      <td>55.608</td>\n",
       "      <td>49.277</td>\n",
       "      <td>OVB</td>\n",
       "      <td>0.000</td>\n",
       "      <td>0.000</td>\n",
       "    </tr>\n",
       "    <tr>\n",
       "      <th>96</th>\n",
       "      <td>KZN</td>\n",
       "      <td>55.608</td>\n",
       "      <td>49.277</td>\n",
       "      <td>OVB</td>\n",
       "      <td>0.000</td>\n",
       "      <td>0.000</td>\n",
       "    </tr>\n",
       "    <tr>\n",
       "      <th>97</th>\n",
       "      <td>LED</td>\n",
       "      <td>59.800</td>\n",
       "      <td>30.265</td>\n",
       "      <td>OVB</td>\n",
       "      <td>0.000</td>\n",
       "      <td>0.000</td>\n",
       "    </tr>\n",
       "    <tr>\n",
       "      <th>98</th>\n",
       "      <td>LED</td>\n",
       "      <td>59.800</td>\n",
       "      <td>30.265</td>\n",
       "      <td>OVB</td>\n",
       "      <td>0.000</td>\n",
       "      <td>0.000</td>\n",
       "    </tr>\n",
       "    <tr>\n",
       "      <th>99</th>\n",
       "      <td>LED</td>\n",
       "      <td>59.800</td>\n",
       "      <td>30.265</td>\n",
       "      <td>OVB</td>\n",
       "      <td>0.000</td>\n",
       "      <td>0.000</td>\n",
       "    </tr>\n",
       "  </tbody>\n",
       "</table>\n",
       "<p>100 rows × 6 columns</p>\n",
       "</div>"
      ],
      "text/plain": [
       "   source_code    slat    slng destination_code    dlat    dlng\n",
       "0          AER  43.446  39.947              KZN  55.608  49.277\n",
       "1          AER  43.446  39.947              KZN  55.608  49.277\n",
       "2          AER  43.446  39.947              KZN  55.608  49.277\n",
       "3          AER  43.446  39.947              KZN  55.608  49.277\n",
       "4          AER  43.446  39.947              KZN  55.608  49.277\n",
       "..         ...     ...     ...              ...     ...     ...\n",
       "95         KZN  55.608  49.277              OVB   0.000   0.000\n",
       "96         KZN  55.608  49.277              OVB   0.000   0.000\n",
       "97         LED  59.800  30.265              OVB   0.000   0.000\n",
       "98         LED  59.800  30.265              OVB   0.000   0.000\n",
       "99         LED  59.800  30.265              OVB   0.000   0.000\n",
       "\n",
       "[100 rows x 6 columns]"
      ]
     },
     "execution_count": 226,
     "metadata": {},
     "output_type": "execute_result"
    }
   ],
   "source": [
    "concat_df = pd.concat([source_complete, destination_complete], axis=1)\n",
    "concat_df.head(100)"
   ]
  },
  {
   "cell_type": "code",
   "execution_count": 227,
   "metadata": {},
   "outputs": [],
   "source": [
    "concat_df = concat_df.dropna()\n",
    "concat_df = concat_df.reset_index(drop=True)"
   ]
  },
  {
   "cell_type": "code",
   "execution_count": 228,
   "metadata": {},
   "outputs": [
    {
     "data": {
      "text/plain": [
       "source_code         63049\n",
       "slat                63049\n",
       "slng                63049\n",
       "destination_code    63049\n",
       "dlat                63049\n",
       "dlng                63049\n",
       "dtype: int64"
      ]
     },
     "execution_count": 228,
     "metadata": {},
     "output_type": "execute_result"
    }
   ],
   "source": [
    "concat_df.count()"
   ]
  },
  {
   "cell_type": "code",
   "execution_count": 229,
   "metadata": {},
   "outputs": [
    {
     "data": {
      "text/html": [
       "<div>\n",
       "<style scoped>\n",
       "    .dataframe tbody tr th:only-of-type {\n",
       "        vertical-align: middle;\n",
       "    }\n",
       "\n",
       "    .dataframe tbody tr th {\n",
       "        vertical-align: top;\n",
       "    }\n",
       "\n",
       "    .dataframe thead th {\n",
       "        text-align: right;\n",
       "    }\n",
       "</style>\n",
       "<table border=\"1\" class=\"dataframe\">\n",
       "  <thead>\n",
       "    <tr style=\"text-align: right;\">\n",
       "      <th></th>\n",
       "      <th>source_code</th>\n",
       "      <th>slat</th>\n",
       "      <th>slng</th>\n",
       "      <th>destination_code</th>\n",
       "      <th>dlat</th>\n",
       "      <th>dlng</th>\n",
       "    </tr>\n",
       "  </thead>\n",
       "  <tbody>\n",
       "    <tr>\n",
       "      <th>0</th>\n",
       "      <td>AER</td>\n",
       "      <td>43.446</td>\n",
       "      <td>39.947</td>\n",
       "      <td>KZN</td>\n",
       "      <td>55.608</td>\n",
       "      <td>49.277</td>\n",
       "    </tr>\n",
       "    <tr>\n",
       "      <th>1</th>\n",
       "      <td>AER</td>\n",
       "      <td>43.446</td>\n",
       "      <td>39.947</td>\n",
       "      <td>KZN</td>\n",
       "      <td>55.608</td>\n",
       "      <td>49.277</td>\n",
       "    </tr>\n",
       "    <tr>\n",
       "      <th>2</th>\n",
       "      <td>AER</td>\n",
       "      <td>43.446</td>\n",
       "      <td>39.947</td>\n",
       "      <td>KZN</td>\n",
       "      <td>55.608</td>\n",
       "      <td>49.277</td>\n",
       "    </tr>\n",
       "    <tr>\n",
       "      <th>3</th>\n",
       "      <td>AER</td>\n",
       "      <td>43.446</td>\n",
       "      <td>39.947</td>\n",
       "      <td>KZN</td>\n",
       "      <td>55.608</td>\n",
       "      <td>49.277</td>\n",
       "    </tr>\n",
       "    <tr>\n",
       "      <th>4</th>\n",
       "      <td>AER</td>\n",
       "      <td>43.446</td>\n",
       "      <td>39.947</td>\n",
       "      <td>KZN</td>\n",
       "      <td>55.608</td>\n",
       "      <td>49.277</td>\n",
       "    </tr>\n",
       "    <tr>\n",
       "      <th>...</th>\n",
       "      <td>...</td>\n",
       "      <td>...</td>\n",
       "      <td>...</td>\n",
       "      <td>...</td>\n",
       "      <td>...</td>\n",
       "      <td>...</td>\n",
       "    </tr>\n",
       "    <tr>\n",
       "      <th>63044</th>\n",
       "      <td>YRF</td>\n",
       "      <td>0.000</td>\n",
       "      <td>0.000</td>\n",
       "      <td>ZUD</td>\n",
       "      <td>-41.906</td>\n",
       "      <td>-73.797</td>\n",
       "    </tr>\n",
       "    <tr>\n",
       "      <th>63045</th>\n",
       "      <td>YRI</td>\n",
       "      <td>47.764</td>\n",
       "      <td>-69.585</td>\n",
       "      <td>ZUN</td>\n",
       "      <td>35.083</td>\n",
       "      <td>-108.792</td>\n",
       "    </tr>\n",
       "    <tr>\n",
       "      <th>63046</th>\n",
       "      <td>YRJ</td>\n",
       "      <td>48.520</td>\n",
       "      <td>-72.266</td>\n",
       "      <td>ZVA</td>\n",
       "      <td>-19.563</td>\n",
       "      <td>45.451</td>\n",
       "    </tr>\n",
       "    <tr>\n",
       "      <th>63047</th>\n",
       "      <td>YRM</td>\n",
       "      <td>52.430</td>\n",
       "      <td>-114.904</td>\n",
       "      <td>ZWA</td>\n",
       "      <td>-14.652</td>\n",
       "      <td>49.621</td>\n",
       "    </tr>\n",
       "    <tr>\n",
       "      <th>63048</th>\n",
       "      <td>YSC</td>\n",
       "      <td>45.438</td>\n",
       "      <td>-71.691</td>\n",
       "      <td>ZZU</td>\n",
       "      <td>-11.445</td>\n",
       "      <td>34.012</td>\n",
       "    </tr>\n",
       "  </tbody>\n",
       "</table>\n",
       "<p>63049 rows × 6 columns</p>\n",
       "</div>"
      ],
      "text/plain": [
       "      source_code    slat     slng destination_code    dlat     dlng\n",
       "0             AER  43.446   39.947              KZN  55.608   49.277\n",
       "1             AER  43.446   39.947              KZN  55.608   49.277\n",
       "2             AER  43.446   39.947              KZN  55.608   49.277\n",
       "3             AER  43.446   39.947              KZN  55.608   49.277\n",
       "4             AER  43.446   39.947              KZN  55.608   49.277\n",
       "...           ...     ...      ...              ...     ...      ...\n",
       "63044         YRF   0.000    0.000              ZUD -41.906  -73.797\n",
       "63045         YRI  47.764  -69.585              ZUN  35.083 -108.792\n",
       "63046         YRJ  48.520  -72.266              ZVA -19.563   45.451\n",
       "63047         YRM  52.430 -114.904              ZWA -14.652   49.621\n",
       "63048         YSC  45.438  -71.691              ZZU -11.445   34.012\n",
       "\n",
       "[63049 rows x 6 columns]"
      ]
     },
     "execution_count": 229,
     "metadata": {},
     "output_type": "execute_result"
    }
   ],
   "source": [
    "concat_df"
   ]
  },
  {
   "cell_type": "code",
   "execution_count": 234,
   "metadata": {},
   "outputs": [],
   "source": [
    "concat_df = concat_df.dropna()"
   ]
  },
  {
   "cell_type": "code",
   "execution_count": 237,
   "metadata": {
    "scrolled": true
   },
   "outputs": [
    {
     "data": {
      "text/plain": [
       "source_code         63049\n",
       "slat                63049\n",
       "slng                63049\n",
       "destination_code    63049\n",
       "dlat                63049\n",
       "dlng                63049\n",
       "dtype: int64"
      ]
     },
     "execution_count": 237,
     "metadata": {},
     "output_type": "execute_result"
    }
   ],
   "source": [
    "concat_df.count()"
   ]
  },
  {
   "cell_type": "code",
   "execution_count": 244,
   "metadata": {},
   "outputs": [
    {
     "data": {
      "text/html": [
       "<div>\n",
       "<style scoped>\n",
       "    .dataframe tbody tr th:only-of-type {\n",
       "        vertical-align: middle;\n",
       "    }\n",
       "\n",
       "    .dataframe tbody tr th {\n",
       "        vertical-align: top;\n",
       "    }\n",
       "\n",
       "    .dataframe thead th {\n",
       "        text-align: right;\n",
       "    }\n",
       "</style>\n",
       "<table border=\"1\" class=\"dataframe\">\n",
       "  <thead>\n",
       "    <tr style=\"text-align: right;\">\n",
       "      <th></th>\n",
       "      <th>source_code</th>\n",
       "      <th>slat</th>\n",
       "      <th>slng</th>\n",
       "      <th>destination_code</th>\n",
       "      <th>dlat</th>\n",
       "      <th>dlng</th>\n",
       "    </tr>\n",
       "  </thead>\n",
       "  <tbody>\n",
       "    <tr>\n",
       "      <th>0</th>\n",
       "      <td>AER</td>\n",
       "      <td>43.446</td>\n",
       "      <td>39.947</td>\n",
       "      <td>KZN</td>\n",
       "      <td>55.608</td>\n",
       "      <td>49.277</td>\n",
       "    </tr>\n",
       "    <tr>\n",
       "      <th>1</th>\n",
       "      <td>AER</td>\n",
       "      <td>43.446</td>\n",
       "      <td>39.947</td>\n",
       "      <td>KZN</td>\n",
       "      <td>55.608</td>\n",
       "      <td>49.277</td>\n",
       "    </tr>\n",
       "    <tr>\n",
       "      <th>2</th>\n",
       "      <td>AER</td>\n",
       "      <td>43.446</td>\n",
       "      <td>39.947</td>\n",
       "      <td>KZN</td>\n",
       "      <td>55.608</td>\n",
       "      <td>49.277</td>\n",
       "    </tr>\n",
       "    <tr>\n",
       "      <th>3</th>\n",
       "      <td>AER</td>\n",
       "      <td>43.446</td>\n",
       "      <td>39.947</td>\n",
       "      <td>KZN</td>\n",
       "      <td>55.608</td>\n",
       "      <td>49.277</td>\n",
       "    </tr>\n",
       "    <tr>\n",
       "      <th>4</th>\n",
       "      <td>AER</td>\n",
       "      <td>43.446</td>\n",
       "      <td>39.947</td>\n",
       "      <td>KZN</td>\n",
       "      <td>55.608</td>\n",
       "      <td>49.277</td>\n",
       "    </tr>\n",
       "    <tr>\n",
       "      <th>...</th>\n",
       "      <td>...</td>\n",
       "      <td>...</td>\n",
       "      <td>...</td>\n",
       "      <td>...</td>\n",
       "      <td>...</td>\n",
       "      <td>...</td>\n",
       "    </tr>\n",
       "    <tr>\n",
       "      <th>63044</th>\n",
       "      <td>YRF</td>\n",
       "      <td>0.000</td>\n",
       "      <td>0.000</td>\n",
       "      <td>ZUD</td>\n",
       "      <td>-41.906</td>\n",
       "      <td>-73.797</td>\n",
       "    </tr>\n",
       "    <tr>\n",
       "      <th>63045</th>\n",
       "      <td>YRI</td>\n",
       "      <td>47.764</td>\n",
       "      <td>-69.585</td>\n",
       "      <td>ZUN</td>\n",
       "      <td>35.083</td>\n",
       "      <td>-108.792</td>\n",
       "    </tr>\n",
       "    <tr>\n",
       "      <th>63046</th>\n",
       "      <td>YRJ</td>\n",
       "      <td>48.520</td>\n",
       "      <td>-72.266</td>\n",
       "      <td>ZVA</td>\n",
       "      <td>-19.563</td>\n",
       "      <td>45.451</td>\n",
       "    </tr>\n",
       "    <tr>\n",
       "      <th>63047</th>\n",
       "      <td>YRM</td>\n",
       "      <td>52.430</td>\n",
       "      <td>-114.904</td>\n",
       "      <td>ZWA</td>\n",
       "      <td>-14.652</td>\n",
       "      <td>49.621</td>\n",
       "    </tr>\n",
       "    <tr>\n",
       "      <th>63048</th>\n",
       "      <td>YSC</td>\n",
       "      <td>45.438</td>\n",
       "      <td>-71.691</td>\n",
       "      <td>ZZU</td>\n",
       "      <td>-11.445</td>\n",
       "      <td>34.012</td>\n",
       "    </tr>\n",
       "  </tbody>\n",
       "</table>\n",
       "<p>63049 rows × 6 columns</p>\n",
       "</div>"
      ],
      "text/plain": [
       "      source_code    slat     slng destination_code    dlat     dlng\n",
       "0             AER  43.446   39.947              KZN  55.608   49.277\n",
       "1             AER  43.446   39.947              KZN  55.608   49.277\n",
       "2             AER  43.446   39.947              KZN  55.608   49.277\n",
       "3             AER  43.446   39.947              KZN  55.608   49.277\n",
       "4             AER  43.446   39.947              KZN  55.608   49.277\n",
       "...           ...     ...      ...              ...     ...      ...\n",
       "63044         YRF   0.000    0.000              ZUD -41.906  -73.797\n",
       "63045         YRI  47.764  -69.585              ZUN  35.083 -108.792\n",
       "63046         YRJ  48.520  -72.266              ZVA -19.563   45.451\n",
       "63047         YRM  52.430 -114.904              ZWA -14.652   49.621\n",
       "63048         YSC  45.438  -71.691              ZZU -11.445   34.012\n",
       "\n",
       "[63049 rows x 6 columns]"
      ]
     },
     "execution_count": 244,
     "metadata": {},
     "output_type": "execute_result"
    }
   ],
   "source": [
    "concat_df.loc[(concat_df!=0.000).any(1)]"
   ]
  },
  {
   "cell_type": "code",
   "execution_count": 245,
   "metadata": {},
   "outputs": [
    {
     "data": {
      "text/html": [
       "<div>\n",
       "<style scoped>\n",
       "    .dataframe tbody tr th:only-of-type {\n",
       "        vertical-align: middle;\n",
       "    }\n",
       "\n",
       "    .dataframe tbody tr th {\n",
       "        vertical-align: top;\n",
       "    }\n",
       "\n",
       "    .dataframe thead th {\n",
       "        text-align: right;\n",
       "    }\n",
       "</style>\n",
       "<table border=\"1\" class=\"dataframe\">\n",
       "  <thead>\n",
       "    <tr style=\"text-align: right;\">\n",
       "      <th></th>\n",
       "      <th>source_code</th>\n",
       "      <th>slat</th>\n",
       "      <th>slng</th>\n",
       "      <th>destination_code</th>\n",
       "      <th>dlat</th>\n",
       "      <th>dlng</th>\n",
       "    </tr>\n",
       "  </thead>\n",
       "  <tbody>\n",
       "    <tr>\n",
       "      <th>0</th>\n",
       "      <td>AER</td>\n",
       "      <td>43.446</td>\n",
       "      <td>39.947</td>\n",
       "      <td>KZN</td>\n",
       "      <td>55.608</td>\n",
       "      <td>49.277</td>\n",
       "    </tr>\n",
       "    <tr>\n",
       "      <th>1</th>\n",
       "      <td>AER</td>\n",
       "      <td>43.446</td>\n",
       "      <td>39.947</td>\n",
       "      <td>KZN</td>\n",
       "      <td>55.608</td>\n",
       "      <td>49.277</td>\n",
       "    </tr>\n",
       "    <tr>\n",
       "      <th>2</th>\n",
       "      <td>AER</td>\n",
       "      <td>43.446</td>\n",
       "      <td>39.947</td>\n",
       "      <td>KZN</td>\n",
       "      <td>55.608</td>\n",
       "      <td>49.277</td>\n",
       "    </tr>\n",
       "    <tr>\n",
       "      <th>3</th>\n",
       "      <td>AER</td>\n",
       "      <td>43.446</td>\n",
       "      <td>39.947</td>\n",
       "      <td>KZN</td>\n",
       "      <td>55.608</td>\n",
       "      <td>49.277</td>\n",
       "    </tr>\n",
       "    <tr>\n",
       "      <th>4</th>\n",
       "      <td>AER</td>\n",
       "      <td>43.446</td>\n",
       "      <td>39.947</td>\n",
       "      <td>KZN</td>\n",
       "      <td>55.608</td>\n",
       "      <td>49.277</td>\n",
       "    </tr>\n",
       "  </tbody>\n",
       "</table>\n",
       "</div>"
      ],
      "text/plain": [
       "  source_code    slat    slng destination_code    dlat    dlng\n",
       "0         AER  43.446  39.947              KZN  55.608  49.277\n",
       "1         AER  43.446  39.947              KZN  55.608  49.277\n",
       "2         AER  43.446  39.947              KZN  55.608  49.277\n",
       "3         AER  43.446  39.947              KZN  55.608  49.277\n",
       "4         AER  43.446  39.947              KZN  55.608  49.277"
      ]
     },
     "execution_count": 245,
     "metadata": {},
     "output_type": "execute_result"
    }
   ],
   "source": [
    "concat_df.head()"
   ]
  },
  {
   "cell_type": "code",
   "execution_count": 246,
   "metadata": {},
   "outputs": [],
   "source": [
    "concat_df.to_csv(\"lats_lngs.csv\", sep=',', encoding='utf-8', index=False)"
   ]
  },
  {
   "cell_type": "code",
   "execution_count": null,
   "metadata": {},
   "outputs": [],
   "source": []
  }
 ],
 "metadata": {
  "kernelspec": {
   "display_name": "Python 3",
   "language": "python",
   "name": "python3"
  },
  "language_info": {
   "codemirror_mode": {
    "name": "ipython",
    "version": 3
   },
   "file_extension": ".py",
   "mimetype": "text/x-python",
   "name": "python",
   "nbconvert_exporter": "python",
   "pygments_lexer": "ipython3",
   "version": "3.7.5"
  }
 },
 "nbformat": 4,
 "nbformat_minor": 2
}
